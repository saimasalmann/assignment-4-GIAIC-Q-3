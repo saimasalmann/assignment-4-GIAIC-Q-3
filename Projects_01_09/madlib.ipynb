{
  "nbformat": 4,
  "nbformat_minor": 0,
  "metadata": {
    "colab": {
      "provenance": [],
      "authorship_tag": "ABX9TyM5vGpdG+ZdlGXhZ7uelSmB",
      "include_colab_link": true
    },
    "kernelspec": {
      "name": "python3",
      "display_name": "Python 3"
    },
    "language_info": {
      "name": "python"
    }
  },
  "cells": [
    {
      "cell_type": "markdown",
      "metadata": {
        "id": "view-in-github",
        "colab_type": "text"
      },
      "source": [
        "<a href=\"https://colab.research.google.com/github/saimasalmann/assignment-4-GIAIC-Q-3/blob/main/Projects_01_09/madlib.ipynb\" target=\"_parent\"><img src=\"https://colab.research.google.com/assets/colab-badge.svg\" alt=\"Open In Colab\"/></a>"
      ]
    },
    {
      "cell_type": "code",
      "source": [
        "def madlib():\n",
        "  noun = input(\"Please enter the noun . \")\n",
        "  verb = input(\"Please enter the verb . \")\n",
        "  adjective = input(\"Please enter the adjective.  \")\n",
        "\n",
        "  madlib_para = (f\"\"\"\\nThe {adjective} {noun} loves to {verb} every morning.\n",
        "One day, the same {adjective} {noun} tried to {verb} with a banana.\n",
        "It was the most {adjective} thing the {noun} ever did!\n",
        "\n",
        "\n",
        "\n",
        "\"\"\")\n",
        "  print(madlib_para)\n",
        "\n",
        "\n",
        "\n",
        "madlib()"
      ],
      "metadata": {
        "id": "TYVYj8Iqqw9E"
      },
      "execution_count": null,
      "outputs": []
    }
  ]
}