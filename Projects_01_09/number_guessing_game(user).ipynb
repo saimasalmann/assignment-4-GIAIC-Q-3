{
  "nbformat": 4,
  "nbformat_minor": 0,
  "metadata": {
    "colab": {
      "provenance": [],
      "authorship_tag": "ABX9TyMbYCmDoWO5CitlYQQYc6Tv",
      "include_colab_link": true
    },
    "kernelspec": {
      "name": "python3",
      "display_name": "Python 3"
    },
    "language_info": {
      "name": "python"
    }
  },
  "cells": [
    {
      "cell_type": "markdown",
      "metadata": {
        "id": "view-in-github",
        "colab_type": "text"
      },
      "source": [
        "<a href=\"https://colab.research.google.com/github/saimasalmann/assignment-4-GIAIC-Q-3/blob/main/Projects_01_09/number_guessing_game(user).ipynb\" target=\"_parent\"><img src=\"https://colab.research.google.com/assets/colab-badge.svg\" alt=\"Open In Colab\"/></a>"
      ]
    },
    {
      "cell_type": "code",
      "execution_count": 16,
      "metadata": {
        "colab": {
          "base_uri": "https://localhost:8080/"
        },
        "id": "8OzefcTILHRR",
        "outputId": "a7d564d9-1ae4-4523-e49a-c1d223b418e7"
      },
      "outputs": [
        {
          "output_type": "stream",
          "name": "stdout",
          "text": [
            "\n",
            "\u001b[1;34mWELCOME TO NUMBER GUESSING GAME!\u001b[0m\n",
            "\n",
            "Think of a number between 1 and 6 ,I will guess it.  \n",
            "\n",
            "if 4 is too high(h) ,too low(l) or correct(c).  h\n",
            "\n",
            "if 1 is too high(h) ,too low(l) or correct(c).  n\n",
            "❗ Invalid input. Please type only 'h' for high, 'l' for low, or 'c' for correct.\n",
            "\n",
            "\n",
            "if 3 is too high(h) ,too low(l) or correct(c).  c\n",
            "\n",
            "\u001b[1;32mHurrah! I guessed the correct number.\u001b[0m\n"
          ]
        }
      ],
      "source": [
        "import random\n",
        "\n",
        "\n",
        "\n",
        "def guess(x):\n",
        "\n",
        "\n",
        "  low = 1\n",
        "  high = x\n",
        "  feedback = \"\"\n",
        "\n",
        "  print(\"\\n\\033[1;34mWELCOME TO NUMBER GUESSING GAME!\\033[0m\")\n",
        "  print(f\"\\nThink of a number between 1 and {high} ,I will guess it.  \")\n",
        "\n",
        "  while feedback != \"c\":\n",
        "    try:\n",
        "        if low != high:\n",
        "          guess = random.randint(low,high)\n",
        "        else:\n",
        "          guess = low\n",
        "\n",
        "        feedback = input(f\"\\nif {guess} is too high(h) ,too low(l) or correct(c).  \").lower()\n",
        "        if feedback not in ['h', 'l', 'c']:\n",
        "                print(\"❗ Invalid input. Please type only 'h' for high, 'l' for low, or 'c' for correct.\\n\")\n",
        "                continue\n",
        "\n",
        "\n",
        "        if feedback == \"h\":\n",
        "            if guess <= low:\n",
        "              print(\"❌ That doesn't make sense. Your number must be low than this.\")\n",
        "              continue\n",
        "            high = guess - 1\n",
        "\n",
        "        elif feedback == \"l\":\n",
        "          if guess >= high:\n",
        "            print(\"❌ That doesn't make sense.your number must be high than this.\")\n",
        "            continue\n",
        "          low = guess + 1\n",
        "\n",
        "\n",
        "    except ValueError:\n",
        "      print(\"⚠️ Error: The range became invalid due to inconsistent feedback.\")\n",
        "      print(\"🔁 Let's try again.\\n\")\n",
        "\n",
        "\n",
        "  print(f\"\\n\\033[1;32mHurrah! I guessed the correct number.\\033[0m\")\n",
        "\n",
        "guess(6)"
      ]
    },
    {
      "cell_type": "code",
      "source": [],
      "metadata": {
        "id": "p_QPxMJPTkrT"
      },
      "execution_count": null,
      "outputs": []
    }
  ]
}