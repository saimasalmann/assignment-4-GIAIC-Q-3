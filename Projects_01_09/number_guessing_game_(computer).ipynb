{
  "nbformat": 4,
  "nbformat_minor": 0,
  "metadata": {
    "colab": {
      "provenance": [],
      "authorship_tag": "ABX9TyM282+v5ZVm3MIZDZcGCgk7",
      "include_colab_link": true
    },
    "kernelspec": {
      "name": "python3",
      "display_name": "Python 3"
    },
    "language_info": {
      "name": "python"
    }
  },
  "cells": [
    {
      "cell_type": "markdown",
      "metadata": {
        "id": "view-in-github",
        "colab_type": "text"
      },
      "source": [
        "<a href=\"https://colab.research.google.com/github/saimasalmann/assignment-4-GIAIC-Q-3/blob/main/Projects_01_09/number_guessing_game_(computer).ipynb\" target=\"_parent\"><img src=\"https://colab.research.google.com/assets/colab-badge.svg\" alt=\"Open In Colab\"/></a>"
      ]
    },
    {
      "cell_type": "code",
      "execution_count": null,
      "metadata": {
        "colab": {
          "base_uri": "https://localhost:8080/"
        },
        "id": "HGN7hEWvIT1z",
        "outputId": "f059a63f-27a6-4f42-dd8f-c015571014be"
      },
      "outputs": [
        {
          "output_type": "stream",
          "name": "stdout",
          "text": [
            "\n",
            "\u001b[1;35m****** Welcome to the Guess My Number Game ******\u001b[0m\n",
            "\n",
            "I am thinking of a number between 1 and 5...\n",
            "\n",
            "Enter a guess: 2\n",
            "\u001b[1;33mYour guess is too low\u001b[0m\n",
            "\n",
            "Enter a new guess: 3\n",
            "\u001b[1;33mYour guess is too low\u001b[0m\n",
            "\n",
            "Enter a new guess: 4\n",
            "\u001b[1;32mCongrats! You guessed the correct number.\u001b[0m\n"
          ]
        }
      ],
      "source": [
        "import random\n",
        "def get_int(prompt):\n",
        "    while True:\n",
        "        try:\n",
        "            return int(input(prompt))\n",
        "        except ValueError:\n",
        "            print(\"\\033[1;31mInvalid input.\\033[0m Please enter a number.\")\n",
        "\n",
        "\n",
        "\n",
        "def main(x):\n",
        "    secret_number = random.randint(1, x)\n",
        "    # Generate the secret number at random!\n",
        "    print(\"\\n\\033[1;35m****** Welcome to the Guess My Number Game ******\\033[0m\\n\")\n",
        "    print(f\"I am thinking of a number between 1 and {x}...\\n\")\n",
        "\n",
        "    # Get user's guess\n",
        "\n",
        "\n",
        "\n",
        "    guess = get_int(\"Enter a guess: \")\n",
        "    # True if guess is not equal to secret number\n",
        "    while guess != secret_number:\n",
        "        if guess < secret_number:  # If-statement is True if guess is less than secret number\n",
        "            print(\"\\033[1;33mYour guess is too low\\033[0m\")\n",
        "        else:\n",
        "            print(\"\\033[1;35mYour guess is too high\\033[0m\")\n",
        "\n",
        "        print() # Print an empty line to tidy up the console for new guesses\n",
        "        guess = get_int(\"Enter a new guess: \") # Get a new guess from the user\n",
        "\n",
        "    print(\"\\033[1;32mCongrats! You guessed the correct number.\\033[0m\" )\n",
        "\n",
        "if __name__ == '__main__':\n",
        "    main(5)"
      ]
    }
  ]
}