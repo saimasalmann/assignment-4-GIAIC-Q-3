{
  "nbformat": 4,
  "nbformat_minor": 0,
  "metadata": {
    "colab": {
      "provenance": [],
      "authorship_tag": "ABX9TyMx+ntVRMKU3RB9Qbsmg0jG",
      "include_colab_link": true
    },
    "kernelspec": {
      "name": "python3",
      "display_name": "Python 3"
    },
    "language_info": {
      "name": "python"
    }
  },
  "cells": [
    {
      "cell_type": "markdown",
      "metadata": {
        "id": "view-in-github",
        "colab_type": "text"
      },
      "source": [
        "<a href=\"https://colab.research.google.com/github/saimasalmann/assignment-4-GIAIC-Q-3/blob/main/madlib.ipynb\" target=\"_parent\"><img src=\"https://colab.research.google.com/assets/colab-badge.svg\" alt=\"Open In Colab\"/></a>"
      ]
    },
    {
      "cell_type": "markdown",
      "source": [
        "\n",
        "# **Mad Libs Game**"
      ],
      "metadata": {
        "id": "hszIYdvphwkU"
      }
    },
    {
      "cell_type": "code",
      "execution_count": 1,
      "metadata": {
        "colab": {
          "base_uri": "https://localhost:8080/"
        },
        "id": "tb9XWkKCb11-",
        "outputId": "d4831fbc-f262-4aac-f5ec-dcb2bdd69549"
      },
      "outputs": [
        {
          "output_type": "stream",
          "name": "stdout",
          "text": [
            "Please enter the noun . monkey\n",
            "Please enter the verb . jump\n",
            "Please enter the adjective.  funny\n",
            "\n",
            "The funny monkey loves to jump every morning.\n",
            "One day, the same funny monkey tried to jump with a banana.\n",
            "It was the most funny thing the monkey ever did!\n",
            "\n",
            "\n",
            "\n"
          ]
        }
      ],
      "source": [
        "def madlib():\n",
        "  noun = input(\"Please enter the noun . \")\n",
        "  verb = input(\"Please enter the verb . \")\n",
        "  adjective = input(\"Please enter the adjective.  \")\n",
        "\n",
        "  madlib_para = (f\"\"\"\\nThe {adjective} {noun} loves to {verb} every morning.\n",
        "One day, the same {adjective} {noun} tried to {verb} with a banana.\n",
        "It was the most {adjective} thing the {noun} ever did!\n",
        "\n",
        "\n",
        "\"\"\")\n",
        "  print(madlib_para)\n",
        "\n",
        "\n",
        "\n",
        "madlib()"
      ]
    }
  ]
}