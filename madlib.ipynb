{
  "nbformat": 4,
  "nbformat_minor": 0,
  "metadata": {
    "colab": {
      "provenance": [],
      "authorship_tag": "ABX9TyMqrPFBZJ3U76ifZ9xPXY9d",
      "include_colab_link": true
    },
    "kernelspec": {
      "name": "python3",
      "display_name": "Python 3"
    },
    "language_info": {
      "name": "python"
    }
  },
  "cells": [
    {
      "cell_type": "markdown",
      "metadata": {
        "id": "view-in-github",
        "colab_type": "text"
      },
      "source": [
        "<a href=\"https://colab.research.google.com/github/saimasalmann/assignment-4-GIAIC-Q-3/blob/main/madlib.ipynb\" target=\"_parent\"><img src=\"https://colab.research.google.com/assets/colab-badge.svg\" alt=\"Open In Colab\"/></a>"
      ]
    },
    {
      "cell_type": "markdown",
      "source": [
        "\n",
        "# **Mad Libs Game**"
      ],
      "metadata": {
        "id": "hszIYdvphwkU"
      }
    },
    {
      "cell_type": "code",
      "execution_count": 6,
      "metadata": {
        "colab": {
          "base_uri": "https://localhost:8080/"
        },
        "id": "tb9XWkKCb11-",
        "outputId": "197f08a7-1a26-4960-97e8-03b21df2e470"
      },
      "outputs": [
        {
          "output_type": "stream",
          "name": "stdout",
          "text": [
            "Please enter the noun . cat\n",
            "Please enter the verb . jump\n",
            "Please enter the adjective.  black\n",
            "\n",
            "I saw a black cat in the park.\n",
            "It started to jump near a black cat.\n",
            "Then I jump and laughed a lot!\n",
            "\n",
            "\n"
          ]
        }
      ],
      "source": [
        "def madlib():\n",
        "  noun = input(\"Please enter the noun . \")\n",
        "  verb = input(\"Please enter the verb . \")\n",
        "  adjective = input(\"Please enter the adjective.  \")\n",
        "\n",
        "  madlib_para = (f\"\"\"\\nI saw a {adjective} {noun} in the park.\n",
        "It started to {verb} near a {adjective} {noun}.\n",
        "Then I {verb} and laughed a lot!\n",
        "\n",
        "\"\"\")\n",
        "  print(madlib_para)\n",
        "\n",
        "\n",
        "\n",
        "madlib()"
      ]
    }
  ]
}